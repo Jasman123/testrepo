{
 "cells": [
  {
   "cell_type": "markdown",
   "id": "50561b25-8d0e-4afe-b8a0-54bb2f123907",
   "metadata": {},
   "source": [
    "<h1>Data Science Tools and Ecosystem<h1>\n"
   ]
  },
  {
   "cell_type": "markdown",
   "id": "dff0bf44-79d3-4d93-9864-b82d033192f7",
   "metadata": {},
   "source": [
    "In this notebook, Data Science Tools and Ecosystem are summarized."
   ]
  },
  {
   "cell_type": "markdown",
   "id": "b5eb2ad8-04a5-4d53-9cc7-a4def7ebd097",
   "metadata": {},
   "source": [
    "Some of the popular languages that Data Scientists use are: \n",
    "<ul>\n",
    "<li>Python</li>\n",
    "<li>R</li>\n",
    "<li>Java</li>\n",
    "</ul>"
   ]
  },
  {
   "cell_type": "markdown",
   "id": "d45923dd-2f15-42f1-96ae-ef8fbde719a9",
   "metadata": {},
   "source": [
    "Some of the commonly used libraries used by Data Scientists include : \n",
    "<ul>\n",
    "<li>Numpy</li>\n",
    "<li>Pandas</li>\n",
    "<li>Sklearn</li>\n",
    "</ul>"
   ]
  },
  {
   "cell_type": "markdown",
   "id": "4e95b1ab-da25-4c41-8786-7ceb540a4b41",
   "metadata": {},
   "source": [
    "Data Science Tools: Visual studio, Rstudio, Jupyterlab\n",
    "\n",
    "| Data Science Tool   | \n",
    "|---------------------|\n",
    "| Visual studio       | \n",
    "| Rstudio             | \n",
    "| Jupyterlab          |\n"
   ]
  },
  {
   "cell_type": "markdown",
   "id": "1f1254ac-3b6d-495b-92ec-56b12a04c70f",
   "metadata": {},
   "source": [
    "<H3>Below are a few examples of evaluating arithmetic expressions in Python</H3>"
   ]
  },
  {
   "cell_type": "code",
   "execution_count": 1,
   "id": "43a839aa-5c16-4bab-afba-defb6d2a0066",
   "metadata": {},
   "outputs": [
    {
     "data": {
      "text/plain": [
       "17"
      ]
     },
     "execution_count": 1,
     "metadata": {},
     "output_type": "execute_result"
    }
   ],
   "source": [
    "# This a simple arithmetic expression to mutiply then add integers\n",
    "(3*4)+5"
   ]
  },
  {
   "cell_type": "code",
   "execution_count": 2,
   "id": "d90f03e8-2fb3-4eb7-b957-fa3bd91451f8",
   "metadata": {},
   "outputs": [
    {
     "data": {
      "text/plain": [
       "3.3333333333333335"
      ]
     },
     "execution_count": 2,
     "metadata": {},
     "output_type": "execute_result"
    }
   ],
   "source": [
    "# This will convert 200 minutes to hours by diving by 60\n",
    "200/60"
   ]
  },
  {
   "cell_type": "markdown",
   "id": "57e40c17-ae42-464b-820a-692f319dd3a2",
   "metadata": {},
   "source": [
    "**Objectives:**\n",
    "<ul>\n",
    "<li>Python</li>\n",
    "<li>R</li>\n",
    "<li>JAVA</li>\n",
    "</ul>\n"
   ]
  },
  {
   "cell_type": "markdown",
   "id": "d3521f5b-cb3a-4e16-b51e-8c763bb9d0eb",
   "metadata": {},
   "source": [
    "<H2>Author</H2>\n",
    "Jasman"
   ]
  },
  {
   "cell_type": "code",
   "execution_count": null,
   "id": "47b16a96-9b03-4a6c-8a35-836cc9bc492c",
   "metadata": {},
   "outputs": [],
   "source": []
  },
  {
   "cell_type": "code",
   "execution_count": null,
   "id": "00149621-0f13-4396-b2c1-2d3182bdfc8d",
   "metadata": {},
   "outputs": [],
   "source": []
  }
 ],
 "metadata": {
  "kernelspec": {
   "display_name": "Python 3 (ipykernel)",
   "language": "python",
   "name": "python3"
  },
  "language_info": {
   "codemirror_mode": {
    "name": "ipython",
    "version": 3
   },
   "file_extension": ".py",
   "mimetype": "text/x-python",
   "name": "python",
   "nbconvert_exporter": "python",
   "pygments_lexer": "ipython3",
   "version": "3.12.8"
  }
 },
 "nbformat": 4,
 "nbformat_minor": 5
}
